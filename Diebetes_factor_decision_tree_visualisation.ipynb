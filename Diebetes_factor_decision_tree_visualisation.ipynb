{
  "nbformat": 4,
  "nbformat_minor": 0,
  "metadata": {
    "colab": {
      "name": "Diebetes factor decision tree visualisation.ipynb",
      "provenance": [],
      "collapsed_sections": []
    },
    "kernelspec": {
      "name": "python3",
      "display_name": "Python 3"
    }
  },
  "cells": [
    {
      "cell_type": "markdown",
      "metadata": {
        "id": "m3nLKAZZ9g1K"
      },
      "source": [
        "#Dataset Download\n",
        "please place the csv file below in your google driv before executing the notebook"
      ]
    },
    {
      "cell_type": "markdown",
      "metadata": {
        "id": "Mkyi1mSe9uAq"
      },
      "source": [
        "https://docs.google.com/spreadsheets/d/1NlDpBJgEbx_EOk0O5gLXmm5WI5_gfcVvg_zuiPMH0fw/edit?usp=sharing"
      ]
    },
    {
      "cell_type": "markdown",
      "metadata": {
        "id": "ocQSHH1Qvv8f"
      },
      "source": [
        "#Data Setting"
      ]
    },
    {
      "cell_type": "code",
      "metadata": {
        "id": "dmOgHoc1OOOo"
      },
      "source": [
        "import re\n",
        "import nltk\n",
        "import string\n",
        "import warnings\n",
        "import numpy as np\n",
        "import pandas as pd\n",
        "import seaborn as sns\n",
        "import matplotlib.pyplot as plt\n",
        "import gensim\n",
        "import sklearn\n",
        "\n",
        "\n",
        "%matplotlib inline"
      ],
      "execution_count": null,
      "outputs": []
    },
    {
      "cell_type": "code",
      "metadata": {
        "id": "0zqE3E7mOYP1",
        "colab": {
          "base_uri": "https://localhost:8080/"
        },
        "outputId": "6b8ad0a7-513c-45c0-9efb-18c7a0e1a9c0"
      },
      "source": [
        "from google.colab import drive\n",
        "\n",
        "drive.mount('/content/gdrive')"
      ],
      "execution_count": null,
      "outputs": [
        {
          "output_type": "stream",
          "text": [
            "Mounted at /content/gdrive\n"
          ],
          "name": "stdout"
        }
      ]
    },
    {
      "cell_type": "code",
      "metadata": {
        "id": "48djlK5hOYSZ"
      },
      "source": [
        "data = pd.read_csv(\"/content/gdrive/My Drive/diabetes.csv\")"
      ],
      "execution_count": null,
      "outputs": []
    },
    {
      "cell_type": "code",
      "metadata": {
        "id": "nQ4L1lt_O8Ml"
      },
      "source": [
        "from sklearn.tree import DecisionTreeClassifier \n",
        "from sklearn.model_selection import train_test_split"
      ],
      "execution_count": null,
      "outputs": []
    },
    {
      "cell_type": "code",
      "metadata": {
        "id": "sKUORiNLO8O9",
        "colab": {
          "base_uri": "https://localhost:8080/",
          "height": 419
        },
        "outputId": "0a3a9e7a-0304-4c4f-f191-a047e61f08a4"
      },
      "source": [
        "data"
      ],
      "execution_count": null,
      "outputs": [
        {
          "output_type": "execute_result",
          "data": {
            "text/html": [
              "<div>\n",
              "<style scoped>\n",
              "    .dataframe tbody tr th:only-of-type {\n",
              "        vertical-align: middle;\n",
              "    }\n",
              "\n",
              "    .dataframe tbody tr th {\n",
              "        vertical-align: top;\n",
              "    }\n",
              "\n",
              "    .dataframe thead th {\n",
              "        text-align: right;\n",
              "    }\n",
              "</style>\n",
              "<table border=\"1\" class=\"dataframe\">\n",
              "  <thead>\n",
              "    <tr style=\"text-align: right;\">\n",
              "      <th></th>\n",
              "      <th>Pregnancies</th>\n",
              "      <th>Glucose</th>\n",
              "      <th>BloodPressure</th>\n",
              "      <th>SkinThickness</th>\n",
              "      <th>Insulin</th>\n",
              "      <th>BMI</th>\n",
              "      <th>DiabetesPedigreeFunction</th>\n",
              "      <th>Age</th>\n",
              "      <th>Outcome</th>\n",
              "    </tr>\n",
              "  </thead>\n",
              "  <tbody>\n",
              "    <tr>\n",
              "      <th>0</th>\n",
              "      <td>6</td>\n",
              "      <td>148</td>\n",
              "      <td>72</td>\n",
              "      <td>35</td>\n",
              "      <td>0</td>\n",
              "      <td>33.6</td>\n",
              "      <td>0.627</td>\n",
              "      <td>50</td>\n",
              "      <td>1</td>\n",
              "    </tr>\n",
              "    <tr>\n",
              "      <th>1</th>\n",
              "      <td>1</td>\n",
              "      <td>85</td>\n",
              "      <td>66</td>\n",
              "      <td>29</td>\n",
              "      <td>0</td>\n",
              "      <td>26.6</td>\n",
              "      <td>0.351</td>\n",
              "      <td>31</td>\n",
              "      <td>0</td>\n",
              "    </tr>\n",
              "    <tr>\n",
              "      <th>2</th>\n",
              "      <td>8</td>\n",
              "      <td>183</td>\n",
              "      <td>64</td>\n",
              "      <td>0</td>\n",
              "      <td>0</td>\n",
              "      <td>23.3</td>\n",
              "      <td>0.672</td>\n",
              "      <td>32</td>\n",
              "      <td>1</td>\n",
              "    </tr>\n",
              "    <tr>\n",
              "      <th>3</th>\n",
              "      <td>1</td>\n",
              "      <td>89</td>\n",
              "      <td>66</td>\n",
              "      <td>23</td>\n",
              "      <td>94</td>\n",
              "      <td>28.1</td>\n",
              "      <td>0.167</td>\n",
              "      <td>21</td>\n",
              "      <td>0</td>\n",
              "    </tr>\n",
              "    <tr>\n",
              "      <th>4</th>\n",
              "      <td>0</td>\n",
              "      <td>137</td>\n",
              "      <td>40</td>\n",
              "      <td>35</td>\n",
              "      <td>168</td>\n",
              "      <td>43.1</td>\n",
              "      <td>2.288</td>\n",
              "      <td>33</td>\n",
              "      <td>1</td>\n",
              "    </tr>\n",
              "    <tr>\n",
              "      <th>...</th>\n",
              "      <td>...</td>\n",
              "      <td>...</td>\n",
              "      <td>...</td>\n",
              "      <td>...</td>\n",
              "      <td>...</td>\n",
              "      <td>...</td>\n",
              "      <td>...</td>\n",
              "      <td>...</td>\n",
              "      <td>...</td>\n",
              "    </tr>\n",
              "    <tr>\n",
              "      <th>763</th>\n",
              "      <td>10</td>\n",
              "      <td>101</td>\n",
              "      <td>76</td>\n",
              "      <td>48</td>\n",
              "      <td>180</td>\n",
              "      <td>32.9</td>\n",
              "      <td>0.171</td>\n",
              "      <td>63</td>\n",
              "      <td>0</td>\n",
              "    </tr>\n",
              "    <tr>\n",
              "      <th>764</th>\n",
              "      <td>2</td>\n",
              "      <td>122</td>\n",
              "      <td>70</td>\n",
              "      <td>27</td>\n",
              "      <td>0</td>\n",
              "      <td>36.8</td>\n",
              "      <td>0.340</td>\n",
              "      <td>27</td>\n",
              "      <td>0</td>\n",
              "    </tr>\n",
              "    <tr>\n",
              "      <th>765</th>\n",
              "      <td>5</td>\n",
              "      <td>121</td>\n",
              "      <td>72</td>\n",
              "      <td>23</td>\n",
              "      <td>112</td>\n",
              "      <td>26.2</td>\n",
              "      <td>0.245</td>\n",
              "      <td>30</td>\n",
              "      <td>0</td>\n",
              "    </tr>\n",
              "    <tr>\n",
              "      <th>766</th>\n",
              "      <td>1</td>\n",
              "      <td>126</td>\n",
              "      <td>60</td>\n",
              "      <td>0</td>\n",
              "      <td>0</td>\n",
              "      <td>30.1</td>\n",
              "      <td>0.349</td>\n",
              "      <td>47</td>\n",
              "      <td>1</td>\n",
              "    </tr>\n",
              "    <tr>\n",
              "      <th>767</th>\n",
              "      <td>1</td>\n",
              "      <td>93</td>\n",
              "      <td>70</td>\n",
              "      <td>31</td>\n",
              "      <td>0</td>\n",
              "      <td>30.4</td>\n",
              "      <td>0.315</td>\n",
              "      <td>23</td>\n",
              "      <td>0</td>\n",
              "    </tr>\n",
              "  </tbody>\n",
              "</table>\n",
              "<p>768 rows × 9 columns</p>\n",
              "</div>"
            ],
            "text/plain": [
              "     Pregnancies  Glucose  ...  Age  Outcome\n",
              "0              6      148  ...   50        1\n",
              "1              1       85  ...   31        0\n",
              "2              8      183  ...   32        1\n",
              "3              1       89  ...   21        0\n",
              "4              0      137  ...   33        1\n",
              "..           ...      ...  ...  ...      ...\n",
              "763           10      101  ...   63        0\n",
              "764            2      122  ...   27        0\n",
              "765            5      121  ...   30        0\n",
              "766            1      126  ...   47        1\n",
              "767            1       93  ...   23        0\n",
              "\n",
              "[768 rows x 9 columns]"
            ]
          },
          "metadata": {
            "tags": []
          },
          "execution_count": 5
        }
      ]
    },
    {
      "cell_type": "markdown",
      "metadata": {
        "id": "wr8H7-_OgXSX"
      },
      "source": [
        "#Missing Value filling\n"
      ]
    },
    {
      "cell_type": "code",
      "metadata": {
        "id": "PqvZibRxO8Rg",
        "colab": {
          "base_uri": "https://localhost:8080/",
          "height": 419
        },
        "outputId": "28888290-b8c0-4c01-bd1a-7a10e3eb6126"
      },
      "source": [
        "presd = data.replace({'pres':0},{'pres':None}) \n",
        "presd1 = presd.dropna() \n",
        "presd = data.replace({'pres':0}, {'pres':None}) \n",
        "#presd = presd.fillna(presd1.pres.median()) \n",
        "massd = presd.replace({'mass':0.0},{'mass':None}) \n",
        "massd1 = massd.dropna() \n",
        "massd = data.replace({'mass':0.0},{'mass':None}) \n",
        "#massd = massd.fillna(massd1.mass.median()) \n",
        "plasd = massd.replace({'plas':0}, {'plas':None}) \n",
        "plasd1 = plasd.dropna() \n",
        "#data = plasd.fillna(plasd1.plas.median()) \n",
        "data\n"
      ],
      "execution_count": null,
      "outputs": [
        {
          "output_type": "execute_result",
          "data": {
            "text/html": [
              "<div>\n",
              "<style scoped>\n",
              "    .dataframe tbody tr th:only-of-type {\n",
              "        vertical-align: middle;\n",
              "    }\n",
              "\n",
              "    .dataframe tbody tr th {\n",
              "        vertical-align: top;\n",
              "    }\n",
              "\n",
              "    .dataframe thead th {\n",
              "        text-align: right;\n",
              "    }\n",
              "</style>\n",
              "<table border=\"1\" class=\"dataframe\">\n",
              "  <thead>\n",
              "    <tr style=\"text-align: right;\">\n",
              "      <th></th>\n",
              "      <th>Pregnancies</th>\n",
              "      <th>Glucose</th>\n",
              "      <th>BloodPressure</th>\n",
              "      <th>SkinThickness</th>\n",
              "      <th>Insulin</th>\n",
              "      <th>BMI</th>\n",
              "      <th>DiabetesPedigreeFunction</th>\n",
              "      <th>Age</th>\n",
              "      <th>Outcome</th>\n",
              "    </tr>\n",
              "  </thead>\n",
              "  <tbody>\n",
              "    <tr>\n",
              "      <th>0</th>\n",
              "      <td>6</td>\n",
              "      <td>148</td>\n",
              "      <td>72</td>\n",
              "      <td>35</td>\n",
              "      <td>0</td>\n",
              "      <td>33.6</td>\n",
              "      <td>0.627</td>\n",
              "      <td>50</td>\n",
              "      <td>1</td>\n",
              "    </tr>\n",
              "    <tr>\n",
              "      <th>1</th>\n",
              "      <td>1</td>\n",
              "      <td>85</td>\n",
              "      <td>66</td>\n",
              "      <td>29</td>\n",
              "      <td>0</td>\n",
              "      <td>26.6</td>\n",
              "      <td>0.351</td>\n",
              "      <td>31</td>\n",
              "      <td>0</td>\n",
              "    </tr>\n",
              "    <tr>\n",
              "      <th>2</th>\n",
              "      <td>8</td>\n",
              "      <td>183</td>\n",
              "      <td>64</td>\n",
              "      <td>0</td>\n",
              "      <td>0</td>\n",
              "      <td>23.3</td>\n",
              "      <td>0.672</td>\n",
              "      <td>32</td>\n",
              "      <td>1</td>\n",
              "    </tr>\n",
              "    <tr>\n",
              "      <th>3</th>\n",
              "      <td>1</td>\n",
              "      <td>89</td>\n",
              "      <td>66</td>\n",
              "      <td>23</td>\n",
              "      <td>94</td>\n",
              "      <td>28.1</td>\n",
              "      <td>0.167</td>\n",
              "      <td>21</td>\n",
              "      <td>0</td>\n",
              "    </tr>\n",
              "    <tr>\n",
              "      <th>4</th>\n",
              "      <td>0</td>\n",
              "      <td>137</td>\n",
              "      <td>40</td>\n",
              "      <td>35</td>\n",
              "      <td>168</td>\n",
              "      <td>43.1</td>\n",
              "      <td>2.288</td>\n",
              "      <td>33</td>\n",
              "      <td>1</td>\n",
              "    </tr>\n",
              "    <tr>\n",
              "      <th>...</th>\n",
              "      <td>...</td>\n",
              "      <td>...</td>\n",
              "      <td>...</td>\n",
              "      <td>...</td>\n",
              "      <td>...</td>\n",
              "      <td>...</td>\n",
              "      <td>...</td>\n",
              "      <td>...</td>\n",
              "      <td>...</td>\n",
              "    </tr>\n",
              "    <tr>\n",
              "      <th>763</th>\n",
              "      <td>10</td>\n",
              "      <td>101</td>\n",
              "      <td>76</td>\n",
              "      <td>48</td>\n",
              "      <td>180</td>\n",
              "      <td>32.9</td>\n",
              "      <td>0.171</td>\n",
              "      <td>63</td>\n",
              "      <td>0</td>\n",
              "    </tr>\n",
              "    <tr>\n",
              "      <th>764</th>\n",
              "      <td>2</td>\n",
              "      <td>122</td>\n",
              "      <td>70</td>\n",
              "      <td>27</td>\n",
              "      <td>0</td>\n",
              "      <td>36.8</td>\n",
              "      <td>0.340</td>\n",
              "      <td>27</td>\n",
              "      <td>0</td>\n",
              "    </tr>\n",
              "    <tr>\n",
              "      <th>765</th>\n",
              "      <td>5</td>\n",
              "      <td>121</td>\n",
              "      <td>72</td>\n",
              "      <td>23</td>\n",
              "      <td>112</td>\n",
              "      <td>26.2</td>\n",
              "      <td>0.245</td>\n",
              "      <td>30</td>\n",
              "      <td>0</td>\n",
              "    </tr>\n",
              "    <tr>\n",
              "      <th>766</th>\n",
              "      <td>1</td>\n",
              "      <td>126</td>\n",
              "      <td>60</td>\n",
              "      <td>0</td>\n",
              "      <td>0</td>\n",
              "      <td>30.1</td>\n",
              "      <td>0.349</td>\n",
              "      <td>47</td>\n",
              "      <td>1</td>\n",
              "    </tr>\n",
              "    <tr>\n",
              "      <th>767</th>\n",
              "      <td>1</td>\n",
              "      <td>93</td>\n",
              "      <td>70</td>\n",
              "      <td>31</td>\n",
              "      <td>0</td>\n",
              "      <td>30.4</td>\n",
              "      <td>0.315</td>\n",
              "      <td>23</td>\n",
              "      <td>0</td>\n",
              "    </tr>\n",
              "  </tbody>\n",
              "</table>\n",
              "<p>768 rows × 9 columns</p>\n",
              "</div>"
            ],
            "text/plain": [
              "     Pregnancies  Glucose  ...  Age  Outcome\n",
              "0              6      148  ...   50        1\n",
              "1              1       85  ...   31        0\n",
              "2              8      183  ...   32        1\n",
              "3              1       89  ...   21        0\n",
              "4              0      137  ...   33        1\n",
              "..           ...      ...  ...  ...      ...\n",
              "763           10      101  ...   63        0\n",
              "764            2      122  ...   27        0\n",
              "765            5      121  ...   30        0\n",
              "766            1      126  ...   47        1\n",
              "767            1       93  ...   23        0\n",
              "\n",
              "[768 rows x 9 columns]"
            ]
          },
          "metadata": {
            "tags": []
          },
          "execution_count": 6
        }
      ]
    },
    {
      "cell_type": "markdown",
      "metadata": {
        "id": "2ZuJDxYgven4"
      },
      "source": [
        "#Entropy computation"
      ]
    },
    {
      "cell_type": "code",
      "metadata": {
        "id": "ysfk5UWRkI_T"
      },
      "source": [
        "\n",
        "# descriptive features\n",
        "#features = data[[\"Pregnancies\",\"Glucise\",\"BloodePressure\",\"SkinThickness\",\"Insulin\",\"BMI\",\"DiabetesPedigreeFunction\",\"Age,]]\n",
        "target = data[\"Outcome\"]\n",
        "def entropy(target_col):\n",
        "    elements, counts = np.unique(target_col, return_counts = True)\n",
        "    entropy = -np.sum([(counts[i]/np.sum(counts))*np.log2(counts[i]/np.sum(counts)) for i in range(len(elements))])\n",
        "    return entropy"
      ],
      "execution_count": null,
      "outputs": []
    },
    {
      "cell_type": "markdown",
      "metadata": {
        "id": "rX8dzXsAxcIX"
      },
      "source": [
        "Total entropy"
      ]
    },
    {
      "cell_type": "code",
      "metadata": {
        "id": "uN_ofJBykgtT",
        "colab": {
          "base_uri": "https://localhost:8080/"
        },
        "outputId": "0c1370a8-e909-46c6-c48a-d346f4458243"
      },
      "source": [
        "print('H(x) = ', round(entropy(target), 5))"
      ],
      "execution_count": null,
      "outputs": [
        {
          "output_type": "stream",
          "text": [
            "H(x) =  0.93313\n"
          ],
          "name": "stdout"
        }
      ]
    },
    {
      "cell_type": "markdown",
      "metadata": {
        "id": "0C793AH0vuhe"
      },
      "source": [
        "#Computing Entropy and Information Gain"
      ]
    },
    {
      "cell_type": "code",
      "metadata": {
        "id": "HpdXhZ83kgwB",
        "colab": {
          "base_uri": "https://localhost:8080/"
        },
        "outputId": "966a9d53-412f-4f35-ca01-fca85e441fae"
      },
      "source": [
        "# IG\n",
        "def InfoGain(data,split_attribute_name,target_name):\n",
        " \n",
        "    # Total entropy computation\n",
        "    total_entropy = entropy(data[target_name])\n",
        "    print('Entropy(D) = ', round(total_entropy, 5))\n",
        "    \n",
        "    # weighted entropy computation\n",
        "    vals,counts= np.unique(data[split_attribute_name],return_counts=True)\n",
        "    Weighted_Entropy = np.sum([(counts[i]/np.sum(counts))*\n",
        "                               entropy(data.where(data[split_attribute_name]==vals[i]).dropna()[target_name])\n",
        "                               for i in range(len(vals))])\n",
        "    print('H(', split_attribute_name, ') = ', round(Weighted_Entropy, 5))\n",
        " \n",
        "    \n",
        "    # Information gain computation\n",
        "    Information_Gain = total_entropy - Weighted_Entropy\n",
        "    return Information_Gain\n",
        " \n",
        " \n",
        "print('InfoGain( Pregnancies ) = ', round(InfoGain(data, \"Pregnancies\", \"Outcome\"), 5), '\\n')\n",
        "print('InfoGain( Glucose ) = ', round(InfoGain(data, \"Glucose\", \"Outcome\"), 5), '\\n')\n",
        "print('InfoGain( BloodPressure) = ', round(InfoGain(data, \"BloodPressure\", \"Outcome\"), 5), '\\n')\n",
        "print('InfoGain( SkinThickness ) = ', round(InfoGain(data, \"SkinThickness\", \"Outcome\"), 5), '\\n')\n",
        "print('InfoGain( Insulin ) = ', round(InfoGain(data, \"Insulin\", \"Outcome\"), 5), '\\n')\n",
        "print('InfoGain( BMI ) = ', round(InfoGain(data, \"BMI\", \"Outcome\"), 5), '\\n')\n",
        "print('InfoGain( DiabetesPedigreeFunction ) = ', round(InfoGain(data, \"DiabetesPedigreeFunction\", \"Outcome\"), 5), '\\n')\n",
        "print('InfoGain( Age ) = ', round(InfoGain(data, \"Age\", \"Outcome\"), 5), '\\n')\n",
        "\n"
      ],
      "execution_count": null,
      "outputs": [
        {
          "output_type": "stream",
          "text": [
            "Entropy(D) =  0.93313\n",
            "H( Pregnancies ) =  0.87131\n",
            "InfoGain( Pregnancies ) =  0.06183 \n",
            "\n",
            "Entropy(D) =  0.93313\n",
            "H( Glucose ) =  0.62893\n",
            "InfoGain( Glucose ) =  0.3042 \n",
            "\n",
            "Entropy(D) =  0.93313\n",
            "H( BloodPressure ) =  0.87382\n",
            "InfoGain( BloodPressure) =  0.05931 \n",
            "\n",
            "Entropy(D) =  0.93313\n",
            "H( SkinThickness ) =  0.85147\n",
            "InfoGain( SkinThickness ) =  0.08166 \n",
            "\n",
            "Entropy(D) =  0.93313\n",
            "H( Insulin ) =  0.65604\n",
            "InfoGain( Insulin ) =  0.27709 \n",
            "\n",
            "Entropy(D) =  0.93313\n",
            "H( BMI ) =  0.58932\n",
            "InfoGain( BMI ) =  0.34381 \n",
            "\n",
            "Entropy(D) =  0.93313\n",
            "H( DiabetesPedigreeFunction ) =  0.28222\n",
            "InfoGain( DiabetesPedigreeFunction ) =  0.65092 \n",
            "\n",
            "Entropy(D) =  0.93313\n",
            "H( Age ) =  0.79219\n",
            "InfoGain( Age ) =  0.14094 \n",
            "\n"
          ],
          "name": "stdout"
        }
      ]
    },
    {
      "cell_type": "code",
      "metadata": {
        "id": "7nicmKpoO8To",
        "colab": {
          "base_uri": "https://localhost:8080/"
        },
        "outputId": "1312147d-f2aa-4ec7-f402-32c08e205475"
      },
      "source": [
        "col = list(map(str, data.columns)) \n",
        "x = data[col[:-1]]\n",
        "y = data[col[-1]]\n",
        "print(x, y)\n",
        "\n"
      ],
      "execution_count": null,
      "outputs": [
        {
          "output_type": "stream",
          "text": [
            "     Pregnancies  Glucose  BloodPressure  ...   BMI  DiabetesPedigreeFunction  Age\n",
            "0              6      148             72  ...  33.6                     0.627   50\n",
            "1              1       85             66  ...  26.6                     0.351   31\n",
            "2              8      183             64  ...  23.3                     0.672   32\n",
            "3              1       89             66  ...  28.1                     0.167   21\n",
            "4              0      137             40  ...  43.1                     2.288   33\n",
            "..           ...      ...            ...  ...   ...                       ...  ...\n",
            "763           10      101             76  ...  32.9                     0.171   63\n",
            "764            2      122             70  ...  36.8                     0.340   27\n",
            "765            5      121             72  ...  26.2                     0.245   30\n",
            "766            1      126             60  ...  30.1                     0.349   47\n",
            "767            1       93             70  ...  30.4                     0.315   23\n",
            "\n",
            "[768 rows x 8 columns] 0      1\n",
            "1      0\n",
            "2      1\n",
            "3      0\n",
            "4      1\n",
            "      ..\n",
            "763    0\n",
            "764    0\n",
            "765    0\n",
            "766    1\n",
            "767    0\n",
            "Name: Outcome, Length: 768, dtype: int64\n"
          ],
          "name": "stdout"
        }
      ]
    },
    {
      "cell_type": "markdown",
      "metadata": {
        "id": "7d9PEgA_gv5p"
      },
      "source": [
        "#Splitting Train set, Test set, Validation set"
      ]
    },
    {
      "cell_type": "code",
      "metadata": {
        "id": "NSAGWe3aQBxK"
      },
      "source": [
        "x_train, x_test, y_train, y_test = train_test_split(x,y,test_size=0.4)\n",
        "x_test, x_val, y_test, y_val = train_test_split(x_test,y_test, test_size=0.5)\n",
        "\n"
      ],
      "execution_count": null,
      "outputs": []
    },
    {
      "cell_type": "markdown",
      "metadata": {
        "id": "wgQLxpY7wrfI"
      },
      "source": [
        "#Fitting decision tree"
      ]
    },
    {
      "cell_type": "code",
      "metadata": {
        "id": "Htt5x8ASQB1z"
      },
      "source": [
        "dTree = DecisionTreeClassifier(criterion=\"entropy\",max_depth=2,random_state=0).fit(x_train,y_train)"
      ],
      "execution_count": null,
      "outputs": []
    },
    {
      "cell_type": "code",
      "metadata": {
        "id": "TnCGQcNrQB48",
        "colab": {
          "base_uri": "https://localhost:8080/"
        },
        "outputId": "c4a01747-cfd7-4fcf-eca7-1c80c27e6e2f"
      },
      "source": [
        "print(\"train score : {}\".format(dTree.score(x_train, y_train))) \n",
        "print(\"val score : {}\".format(dTree.score(x_val, y_val)))\n",
        "\n"
      ],
      "execution_count": null,
      "outputs": [
        {
          "output_type": "stream",
          "text": [
            "train score : 0.7630434782608696\n",
            "val score : 0.7142857142857143\n"
          ],
          "name": "stdout"
        }
      ]
    },
    {
      "cell_type": "markdown",
      "metadata": {
        "id": "LCVuwRCAwxmS"
      },
      "source": [
        "#Evaluation Result"
      ]
    },
    {
      "cell_type": "code",
      "metadata": {
        "id": "HPMVTbyvQB8g",
        "colab": {
          "base_uri": "https://localhost:8080/"
        },
        "outputId": "ff35156e-1f86-420b-cd5e-a066a7796e54"
      },
      "source": [
        "predict_y = dTree.predict(x_test) \n",
        "from sklearn.metrics import classification_report \n",
        "print(classification_report(y_test, dTree.predict(x_test))) \n",
        "print(\"test score : {}\".format(dTree.score(x_test, y_test)))\n",
        "\n"
      ],
      "execution_count": null,
      "outputs": [
        {
          "output_type": "stream",
          "text": [
            "              precision    recall  f1-score   support\n",
            "\n",
            "           0       0.71      0.95      0.81        94\n",
            "           1       0.83      0.40      0.54        60\n",
            "\n",
            "    accuracy                           0.73       154\n",
            "   macro avg       0.77      0.67      0.68       154\n",
            "weighted avg       0.76      0.73      0.71       154\n",
            "\n",
            "test score : 0.7337662337662337\n"
          ],
          "name": "stdout"
        }
      ]
    },
    {
      "cell_type": "markdown",
      "metadata": {
        "id": "POnFnURfw03N"
      },
      "source": [
        "#Visualising Decision Tree"
      ]
    },
    {
      "cell_type": "code",
      "metadata": {
        "id": "w4xZDbWGgxMJ",
        "colab": {
          "base_uri": "https://localhost:8080/"
        },
        "outputId": "f744df8a-2702-41dc-d2a0-7b119744c631"
      },
      "source": [
        " #Install required libraries\n",
        "!pip install pydotplus\n",
        "!apt-get install graphviz -y"
      ],
      "execution_count": null,
      "outputs": [
        {
          "output_type": "stream",
          "text": [
            "Requirement already satisfied: pydotplus in /usr/local/lib/python3.7/dist-packages (2.0.2)\n",
            "Requirement already satisfied: pyparsing>=2.0.1 in /usr/local/lib/python3.7/dist-packages (from pydotplus) (2.4.7)\n",
            "Reading package lists... Done\n",
            "Building dependency tree       \n",
            "Reading state information... Done\n",
            "graphviz is already the newest version (2.40.1-2).\n",
            "0 upgraded, 0 newly installed, 0 to remove and 39 not upgraded.\n"
          ],
          "name": "stdout"
        }
      ]
    },
    {
      "cell_type": "code",
      "metadata": {
        "id": "GmZnf7sJgxOx",
        "colab": {
          "base_uri": "https://localhost:8080/",
          "height": 432
        },
        "outputId": "24917f25-7f26-495c-e18c-e4208e90bb87"
      },
      "source": [
        "# Import necessary libraries for graph viz\n",
        "from sklearn.externals.six import StringIO  \n",
        "from IPython.display import Image  \n",
        "from sklearn.tree import export_graphviz\n",
        "import pydotplus\n",
        "\n",
        "# Visualize the graph\n",
        "dot_data = StringIO()\n",
        "export_graphviz(dTree, out_file=dot_data, feature_names=['Pregnancies', 'Glucose', 'BloodPressure', 'SkinThickness', 'Insulin', 'BMI', 'DiabetesPedigreeFunction', 'Age'],  \n",
        "                filled=True, rounded=True,\n",
        "                special_characters=True)\n",
        "graph = pydotplus.graph_from_dot_data(dot_data.getvalue())  \n",
        "Image(graph.create_png())"
      ],
      "execution_count": null,
      "outputs": [
        {
          "output_type": "stream",
          "text": [
            "/usr/local/lib/python3.7/dist-packages/sklearn/externals/six.py:31: FutureWarning: The module is deprecated in version 0.21 and will be removed in version 0.23 since we've dropped support for Python 2.7. Please rely on the official version of six (https://pypi.org/project/six/).\n",
            "  \"(https://pypi.org/project/six/).\", FutureWarning)\n"
          ],
          "name": "stderr"
        },
        {
          "output_type": "execute_result",
          "data": {
            "image/png": "[encoded data removed]",
            "text/plain": [
              "<IPython.core.display.Image object>"
            ]
          },
          "metadata": {
            "tags": []
          },
          "execution_count": 16
        }
      ]
    },
    {
      "cell_type": "code",
      "metadata": {
        "id": "nIdxa9CgQshI"
      },
      "source": [
        ""
      ],
      "execution_count": null,
      "outputs": []
    }
  ]
}